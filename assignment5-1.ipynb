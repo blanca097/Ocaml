{
 "cells": [
  {
   "cell_type": "markdown",
   "id": "a663d817-aec0-4343-bd5e-59a088ed2f2c",
   "metadata": {
    "tags": []
   },
   "source": [
    "<div align=\"center\">\n",
    "    <h2> CSCI7000-011 Homework Assignment 5</h2>\n",
    "</div>\n",
    "\n",
    "* There is 1 problem with 4 questions. Total points = 10.\n",
    "* You need to install Z3 (opam install z3) to finish this assignment. \n",
    "* Before you turn it in, make sure everything runs as expected. First, **restart the kernel** (in the menubar, select Kernel$\\rightarrow$Restart) and then **run all cells** (in the menubar, select Cell$\\rightarrow$Run All).\n",
    "* Fill in any place that says `Fill in here`."
   ]
  },
  {
   "cell_type": "markdown",
   "id": "701bff74-69a4-4998-8e5a-6a81b15d02b3",
   "metadata": {},
   "source": [
    "## Problem 1 (Dependent Types for CoreML)\n",
    "\n",
    "Below is a simple implementation of dependent type checking for the CoreML language. The type checker works but hasn't been tested thoroughly. The aim of this exercise is to test it on various simple functions and their dependent types. The functions for which you need to write the AST and the dependent types are at the end of this notebook. "
   ]
  },
  {
   "cell_type": "code",
   "execution_count": 2,
   "id": "7bde71e0-2e4d-42e3-9ce6-03aca31af481",
   "metadata": {
    "collapsed": true,
    "jupyter": {
     "outputs_hidden": true
    },
    "scrolled": true,
    "tags": []
   },
   "outputs": [
    {
     "data": {
      "text/plain": [
       "type base_typ = TyInt | TyBool\n"
      ]
     },
     "execution_count": 2,
     "metadata": {},
     "output_type": "execute_result"
    },
    {
     "data": {
      "text/plain": [
       "type typ = TyRef of string * base_typ * expr | TyArr of string * typ * typ\n",
       "and expr =\n",
       "    Var of string\n",
       "  | App of expr * expr\n",
       "  | Lam of string * typ * typ option * expr\n",
       "  | IntConst of int\n",
       "  | BoolConst of bool\n",
       "  | Plus of expr * expr\n",
       "  | Minus of expr * expr\n",
       "  | Mult of expr * expr\n",
       "  | Eq of expr * expr\n",
       "  | Gt of expr * expr\n",
       "  | Lt of expr * expr\n",
       "  | Not of expr\n",
       "  | And of expr * expr\n",
       "  | Or of expr * expr\n",
       "  | Ite of expr * expr * expr\n",
       "  | Let of string * expr * expr\n",
       "  | LetRec of string * typ * expr * expr\n"
      ]
     },
     "execution_count": 2,
     "metadata": {},
     "output_type": "execute_result"
    }
   ],
   "source": [
    "(* Abstract Syntax *)\n",
    "\n",
    "(* CoreML type *)\n",
    "\n",
    "(* base types *)\n",
    "type base_typ =\n",
    "  | TyInt\n",
    "  | TyBool\n",
    "  \n",
    "type typ = \n",
    "  | TyRef of string * base_typ * expr (* \"refined\" type. e.g., {v: int | v>0} *)\n",
    "  | TyArr of string * typ * typ (* Dependent arrow type. e.g., x:{v0: int | ¬(v0=0)} -> {v1: int | v1 > x} *)\n",
    "\n",
    "and expr =\n",
    "  | Var of string\n",
    "  | App of expr * expr\n",
    "  | Lam of string * typ * typ option * expr (* \\(x:T1):T2.e or \\(x:T1).e *)\n",
    "  | IntConst of int\n",
    "  | BoolConst of bool\n",
    "  | Plus of expr * expr\n",
    "  | Minus of expr * expr\n",
    "  | Mult of expr * expr\n",
    "  | Eq of expr * expr\n",
    "  | Gt of expr * expr\n",
    "  | Lt of expr * expr\n",
    "  | Not of expr\n",
    "  | And of expr * expr\n",
    "  | Or of expr * expr\n",
    "  | Ite of expr * expr * expr\n",
    "  | Let of string * expr * expr\n",
    "  | LetRec of string * typ * expr * expr (* let rec (x:poly_typ) = e_1 in e_2 *)"
   ]
  },
  {
   "cell_type": "code",
   "execution_count": 3,
   "id": "c62611c0-c269-4db9-807d-9ac6d6538b16",
   "metadata": {
    "collapsed": true,
    "jupyter": {
     "outputs_hidden": true
    },
    "tags": []
   },
   "outputs": [
    {
     "data": {
      "text/plain": [
       "exception TypeError of string\n"
      ]
     },
     "execution_count": 3,
     "metadata": {},
     "output_type": "execute_result"
    },
    {
     "data": {
      "text/plain": [
       "type typbind = string * typ\n"
      ]
     },
     "execution_count": 3,
     "metadata": {},
     "output_type": "execute_result"
    },
    {
     "data": {
      "text/plain": [
       "type tyenv = typbind list\n"
      ]
     },
     "execution_count": 3,
     "metadata": {},
     "output_type": "execute_result"
    }
   ],
   "source": [
    "exception TypeError of string\n",
    "type typbind = string * typ\n",
    "type tyenv = typbind list"
   ]
  },
  {
   "cell_type": "code",
   "execution_count": 4,
   "id": "d1171241-af03-4915-84dc-b59cdcd0f34b",
   "metadata": {
    "collapsed": true,
    "jupyter": {
     "outputs_hidden": true
    },
    "tags": []
   },
   "outputs": [
    {
     "name": "stderr",
     "output_type": "stream",
     "text": [
      "/Users/gkaki/.opam/4.12.0/lib/ocaml/nums.cma: loaded\n",
      "/Users/gkaki/.opam/4.12.0/lib/num-top: added to search path\n",
      "/Users/gkaki/.opam/4.12.0/lib/num-top/num_top.cma: loaded\n",
      "/Users/gkaki/.opam/4.12.0/lib/num: added to search path\n",
      "/Users/gkaki/.opam/4.12.0/lib/z3: added to search path\n",
      "/Users/gkaki/.opam/4.12.0/lib/z3/z3ml.cma: loaded\n"
     ]
    }
   ],
   "source": [
    "#require \"z3\";;"
   ]
  },
  {
   "cell_type": "code",
   "execution_count": null,
   "id": "da49268b-d190-4dde-973a-8be587dd900b",
   "metadata": {
    "tags": []
   },
   "outputs": [],
   "source": [
    "(*\n",
    " * Substituting expression m for Var x inside the expression e.\n",
    " * We use this only for type checking, hence the function is only\n",
    " * implemented for expressions that can occur inside type refinement. \n",
    " *)\n",
    "let rec expr_subst (m,x) e = match e with \n",
    "  | Var y when y=x -> m\n",
    "  | Var y -> e\n",
    "  | Plus(e1,e2) -> Plus(expr_subst (m,x) e1, expr_subst (m,x) e2)\n",
    "  | Minus(e1,e2) -> Minus(expr_subst (m,x) e1, expr_subst (m,x) e2)\n",
    "  | Mult(e1,e2) -> Mult(expr_subst (m,x) e1, expr_subst (m,x) e2)\n",
    "  | Eq(e1,e2) -> Eq(expr_subst (m,x) e1, expr_subst (m,x) e2)\n",
    "  | Lt(e1,e2) -> Lt(expr_subst (m,x) e1, expr_subst (m,x) e2)\n",
    "  | Gt(e1,e2) -> Gt(expr_subst (m,x) e1, expr_subst (m,x) e2)\n",
    "  | Not e -> Not (expr_subst (m,x) e)\n",
    "  | And(e1,e2) -> And(expr_subst (m,x) e1, expr_subst (m,x) e2)\n",
    "  | Or(e1,e2) -> Or(expr_subst (m,x) e1, expr_subst (m,x) e2)\n",
    "  | _ -> e (* This is incorrect if Lam, If-then-else etc can occur as type refinements *)"
   ]
  },
  {
   "cell_type": "code",
   "execution_count": 6,
   "id": "25357b50-5e61-4e43-b29b-2e9199ed53e5",
   "metadata": {
    "collapsed": true,
    "jupyter": {
     "outputs_hidden": true
    },
    "tags": []
   },
   "outputs": [
    {
     "data": {
      "text/plain": [
       "module Int = Z3.Arithmetic.Integer\n"
      ]
     },
     "execution_count": 6,
     "metadata": {},
     "output_type": "execute_result"
    },
    {
     "data": {
      "text/plain": [
       "module Bool = Z3.Boolean\n"
      ]
     },
     "execution_count": 6,
     "metadata": {},
     "output_type": "execute_result"
    },
    {
     "data": {
      "text/plain": [
       "type z3_expr = Z3.Expr.expr\n"
      ]
     },
     "execution_count": 6,
     "metadata": {},
     "output_type": "execute_result"
    },
    {
     "data": {
      "text/plain": [
       "val keep_some : 'a option list -> 'a list = <fun>\n"
      ]
     },
     "execution_count": 6,
     "metadata": {},
     "output_type": "execute_result"
    },
    {
     "data": {
      "text/plain": [
       "val z3_check_sat : (string * typ) list -> Z3.Solver.status = <fun>\n"
      ]
     },
     "execution_count": 6,
     "metadata": {},
     "output_type": "execute_result"
    }
   ],
   "source": [
    "open Z3\n",
    "\n",
    "module Int = Z3.Arithmetic.Integer\n",
    "module Bool = Z3.Boolean\n",
    "type z3_expr = Z3.Expr.expr\n",
    "\n",
    "let rec keep_some l = match l with\n",
    "  | [] -> []\n",
    "  | (Some x)::xs -> x::(keep_some xs)\n",
    "  | None::xs -> keep_some xs\n",
    "  \n",
    "(*\n",
    " * Below is the function that encodes the env into Z3 and checks\n",
    " * that it is consistent (i.e., satisfiable). \n",
    " *)\n",
    "let z3_check_sat env = \n",
    "  let cfg = [(\"model\", \"true\"); (\"proof\", \"false\")] in\n",
    "  let ctx = (mk_context cfg) in\n",
    "  (* let s_true = mk_true ctx in *)\n",
    "  let s_Int = Int.mk_sort ctx in\n",
    "  let s_Bool = Bool.mk_sort ctx in\n",
    "  let sort_of_typ = function\n",
    "    | TyInt -> s_Int | TyBool -> s_Bool in\n",
    "  let mk_var (v:string) (t:base_typ) : z3_expr = \n",
    "    Z3.Expr.mk_const_s ctx v (sort_of_typ t) in\n",
    "  let (var_map : (string*z3_expr) list) = keep_some @@ List.map \n",
    "      (function\n",
    "        | (x,TyRef (_,t,_)) when x <> \"\" -> Some (x,mk_var x t)\n",
    "        | (_,_) -> None) env in\n",
    "        \n",
    "  (* Building Z3 AST of an expression *)\n",
    "  let rec z3_expr_of pred = match pred with\n",
    "  | Var x -> (try List.assoc x var_map\n",
    "             with Not_found -> failwith @@ \"Unknown variable: \"^x)\n",
    "  | IntConst i -> Int.mk_numeral_i ctx i\n",
    "  | BoolConst true -> Bool.mk_true ctx\n",
    "  | BoolConst false -> Bool.mk_false ctx\n",
    "  | Plus(e1,e2) -> Z3.Arithmetic.mk_add ctx [z3_expr_of e1; z3_expr_of e2]\n",
    "  | Minus(e1,e2) -> Z3.Arithmetic.mk_sub ctx [z3_expr_of e1; z3_expr_of e2]\n",
    "  | Mult(e1,e2) -> Z3.Arithmetic.mk_mul ctx [z3_expr_of e1; z3_expr_of e2]\n",
    "  | Eq(e1,e2) -> Bool.mk_eq ctx (z3_expr_of e1) (z3_expr_of e2)\n",
    "  | Lt(e1,e2) -> Z3.Arithmetic.mk_lt ctx (z3_expr_of e1) (z3_expr_of e2)\n",
    "  | Gt(e1,e2) -> Z3.Arithmetic.mk_gt ctx (z3_expr_of e1) (z3_expr_of e2)\n",
    "  | Not e -> Bool.mk_not ctx @@ z3_expr_of e\n",
    "  | And(e1,e2) -> Bool.mk_and ctx [z3_expr_of e1; z3_expr_of e2]\n",
    "  | Or(e1,e2) -> Bool.mk_or ctx [z3_expr_of e1; z3_expr_of e2] \n",
    "  | _ -> failwith \"Not all exprs can be type refinements\" in\n",
    "  \n",
    "  (* Get Z3 ASTs of constraints *)\n",
    "  let cstrs = keep_some @@ List.map\n",
    "      (function\n",
    "        | (x,TyRef (v,t,BoolConst true)) -> None\n",
    "        | (x,TyRef (v,t,phi)) -> Some (z3_expr_of @@ expr_subst (Var x,v) phi)\n",
    "        | _ -> None) env in\n",
    "        \n",
    "  (* Make a solver *)\n",
    "  let solver = Z3.Solver.mk_solver ctx None in\n",
    "  begin\n",
    "    (* assert all constraints *)\n",
    "    Solver.add solver cstrs;\n",
    "    (* print -- uncomment below line to see the Z3 SMT2 encoding *)\n",
    "    (* Printf.printf \"%s\\n%!\" @@ Z3.Solver.to_string solver; *)\n",
    "    (* check-sat *)\n",
    "    Solver.check solver []\n",
    "  end\n",
    "  "
   ]
  },
  {
   "cell_type": "code",
   "execution_count": 7,
   "id": "a48c1cd0-e3f6-4ca0-a946-ce44e1085397",
   "metadata": {},
   "outputs": [
    {
     "data": {
      "text/plain": [
       "val is_subtype : (string * typ) list -> typ -> typ -> bool = <fun>\n"
      ]
     },
     "execution_count": 7,
     "metadata": {},
     "output_type": "execute_result"
    }
   ],
   "source": [
    "(*\n",
    " * Checks if t1 <: t2 under environment env.\n",
    " *)\n",
    "let rec is_subtype env t1 t2 = match t1,t2 with\n",
    "  | TyRef(_,t1,_), TyRef(_,t2,_) when t1<>t2 -> false\n",
    "  | TyRef(_,t1,_), TyRef(_,t2,BoolConst true) when t1=t2 -> true\n",
    "  | TyRef(v1,t1,phi1), TyRef(v2,t2,phi2) \n",
    "      when v1=v2 && t1=t2 -> \n",
    "    let env' = env@[(\"v\",TyRef(v1,t1,And(phi1,Not phi2)))] in\n",
    "    (match z3_check_sat env' with\n",
    "      | Z3.Solver.UNSATISFIABLE -> true\n",
    "      | Z3.Solver.SATISFIABLE -> false\n",
    "      | Z3.Solver.UNKNOWN -> failwith \"z3 unknown\")\n",
    "  | _ -> failwith \"All cases in is_subtype not implemented\""
   ]
  },
  {
   "cell_type": "code",
   "execution_count": 8,
   "id": "b0ac38fc-9b2b-41cd-9d99-68479eacb063",
   "metadata": {},
   "outputs": [
    {
     "data": {
      "text/plain": [
       "val subst : expr * string -> typ -> typ = <fun>\n"
      ]
     },
     "execution_count": 8,
     "metadata": {},
     "output_type": "execute_result"
    }
   ],
   "source": [
    "(*\n",
    " * Substituting expression e for Var \"x\" inside a given type.\n",
    " *)\n",
    "let rec subst (e,x) = function\n",
    "  | TyRef(v,t,phi) -> TyRef(v,t,expr_subst (e,x) phi)\n",
    "  | TyArr(y,ty1,ty2) -> TyArr(y, subst (e,x) ty1, subst (e,x) ty2)"
   ]
  },
  {
   "cell_type": "code",
   "execution_count": 9,
   "id": "41e3e2ab-1b52-42cc-a223-bd06907eb220",
   "metadata": {},
   "outputs": [
    {
     "data": {
      "text/plain": [
       "val trivial : base_typ -> typ = <fun>\n"
      ]
     },
     "execution_count": 9,
     "metadata": {},
     "output_type": "execute_result"
    }
   ],
   "source": [
    "let trivial (t:base_typ) : typ = TyRef(\"v\",t, BoolConst true)"
   ]
  },
  {
   "cell_type": "code",
   "execution_count": 10,
   "id": "4d17d13e-6a81-4a68-a915-21958440f6a6",
   "metadata": {},
   "outputs": [
    {
     "data": {
      "text/plain": [
       "val base_of : typ -> base_typ = <fun>\n"
      ]
     },
     "execution_count": 10,
     "metadata": {},
     "output_type": "execute_result"
    }
   ],
   "source": [
    "(* \n",
    " * Project the base type out of the refined type.\n",
    " *)\n",
    "let base_of (t:typ): base_typ = match t with\n",
    " | TyRef (_,bt,_) -> bt\n",
    " | TyArr (_,_,_) -> failwith \"An arrow is not a base type\""
   ]
  },
  {
   "cell_type": "code",
   "execution_count": 11,
   "id": "33b4d35a-0c4c-4621-86bf-6949ed7217b2",
   "metadata": {},
   "outputs": [
    {
     "data": {
      "text/plain": [
       "val type_check : tyenv -> expr -> typ option -> typ = <fun>\n"
      ]
     },
     "execution_count": 11,
     "metadata": {},
     "output_type": "execute_result"
    }
   ],
   "source": [
    "(*\n",
    " * Below is the actual type checker. It computes the type ty_e of expression e\n",
    " * under the type environment env. If tyop = Some ty, it checks \n",
    " * if the computed type ty_e is the subtype of the expected type ty.\n",
    " *)\n",
    "let rec type_check (env: tyenv) (e: expr) (tyop: typ option) : typ = match e with\n",
    "  | Var x -> \n",
    "    let ty_x = try List.assoc x env \n",
    "               with Not_found -> raise @@ TypeError (\"Variable \"^x^\" undefined\") in\n",
    "    let ty_e = match ty_x with\n",
    "      | TyRef(v,ty,phi) -> TyRef(v,ty,And(phi,Eq(Var v, Var x)))\n",
    "      | _ -> ty_x in\n",
    "    (match tyop with\n",
    "      | Some ty when is_subtype env ty_e ty -> ty\n",
    "      | Some _ -> raise @@ TypeError \"Subtype check failed at Var\"\n",
    "      | None -> ty_e)\n",
    "  | Lam(x,ty1,ty2op,e1) -> type_check ((x,ty1)::env) e1 ty2op\n",
    "  | App(e1,e2) -> \n",
    "    let ty1 = type_check env e1 None in\n",
    "    let ty2 = type_check env e2 None in\n",
    "    begin\n",
    "      match ty1 with\n",
    "      | TyArr (x, t1, t2) when is_subtype env ty2 t1 -> subst (e2,x) t2\n",
    "      | TyArr (x, t1, t2) -> raise @@ TypeError \"Subtyping check failed at App\"\n",
    "      | _ -> raise @@ TypeError \"Left hand side of application is not a function type\" \n",
    "    end\n",
    "  | IntConst i -> \n",
    "    let ty_c = TyRef(\"v\",TyInt, Eq(Var \"v\",IntConst i)) in\n",
    "    (match tyop with\n",
    "      | Some ty when is_subtype env ty_c ty -> ty\n",
    "      | Some _ -> raise @@ TypeError \"Subtype check failed at IntConst\"\n",
    "      | None -> ty_c)\n",
    "  | BoolConst b -> \n",
    "    let ty_c = TyRef(\"v\",TyBool, Eq(Var \"v\",BoolConst b)) in\n",
    "    (match tyop with\n",
    "      | Some ty when is_subtype env ty_c ty -> ty\n",
    "      | Some _ -> raise @@ TypeError \"Subtype check failed at BoolConst\"\n",
    "      | None -> ty_c)\n",
    "  | Plus(e1,e2) | Minus (e1,e2) | Mult(e1,e2) ->\n",
    "    let (ty1,ty2) = (type_check env e1 None, type_check env e2 None) in\n",
    "    let ty_e = match base_of ty1, base_of ty2 with\n",
    "      | TyInt, TyInt -> TyRef(\"v\", TyInt, Eq(Var \"v\", e))\n",
    "      | _ -> raise @@ TypeError \"Arithmetic expression needs to have Int type\" in\n",
    "    (match tyop with\n",
    "      | Some ty when is_subtype env ty_e ty -> ty\n",
    "      | Some _ -> raise @@ TypeError \"Subtype check failed at arith expr.\"\n",
    "      | None -> ty_e)\n",
    "  | Eq (e1,e2) | Gt (e1,e2) | Lt (e1,e2) ->\n",
    "    let (ty1,ty2) = (type_check env e1 None, type_check env e2 None) in\n",
    "    let ty_e = match base_of ty1, base_of ty2 with\n",
    "      | TyInt, TyInt -> TyRef(\"v\", TyBool, Eq(Var \"v\", e))\n",
    "      | _ -> raise @@ TypeError \"Comparisons of only int expressions allowed\" in\n",
    "    (match tyop with\n",
    "      | Some ty when is_subtype env ty_e ty -> ty\n",
    "      | Some _ -> raise @@ TypeError \"Subtype check failed at comparison expr.\"\n",
    "      | None -> ty_e)\n",
    "  | Not e1 ->\n",
    "    let ty_e = match base_of @@ type_check env e1 None with\n",
    "      | TyBool -> TyRef(\"v\", TyBool, Eq(Var \"v\", e))\n",
    "      | _ -> raise @@ TypeError \"Argument of Not has to be a boolean\" in\n",
    "    (match tyop with\n",
    "      | Some ty when is_subtype env ty_e ty -> ty\n",
    "      | Some _ -> raise @@ TypeError \"Subtype check failed at Not expr.\"\n",
    "      | None -> ty_e)\n",
    "  | And(e1,e2) | Or(e1,e2) ->\n",
    "    let (ty1,ty2) = (type_check env e1 None, type_check env e2 None) in\n",
    "    let ty_e = match base_of ty1, base_of ty2 with\n",
    "      | TyBool, TyBool -> TyRef(\"v\", TyBool, Eq(Var \"v\", e))\n",
    "      | _ -> raise @@ TypeError \"And/Or need boolean arguments\" in\n",
    "    (match tyop with\n",
    "      | Some ty when is_subtype env ty_e ty -> ty\n",
    "      | Some _ -> raise @@ TypeError \"Subtype check failed at arith expr.\"\n",
    "      | None -> ty_e)\n",
    "  | Ite(e1,e2,e3) -> \n",
    "    let ty1 = type_check env e1 None in\n",
    "    let _ = match base_of ty1 with\n",
    "      | TyBool -> ()\n",
    "      | _ -> raise @@ TypeError \"If scrutinee needs to have boolean type\" in\n",
    "    let ty2 = type_check ((\"\",TyRef(\"v\",TyBool, Eq(e1,BoolConst true)))::env) e2 tyop in\n",
    "    let ty3 = type_check ((\"\",TyRef(\"v\",TyBool, Eq(e1,BoolConst false)))::env) e3 tyop in\n",
    "    (match ty2,ty3 with\n",
    "      | TyRef(v1,bt1,phi1), TyRef(v2,bt2,phi2) when bt1<>bt2 ->\n",
    "          raise @@ TypeError \"Then and else branches have different base types\"\n",
    "      | TyRef(v1,bt1,phi1), TyRef(v2,bt2,phi2) when v1=v2 && bt1=bt2 ->  TyRef(v1,bt1,Or(phi1,phi2))\n",
    "      | _,_ -> failwith \"If-then-else case not implemented\")\n",
    "  | Let(x,e1,e2) -> \n",
    "    let ty1 = type_check env e1 None in\n",
    "    type_check ((x,ty1)::env) e2 tyop\n",
    "  | LetRec (x,ty_x,e1,e2) ->\n",
    "    let env' = (x,ty_x)::env in\n",
    "    let _ = type_check env' e1 None in\n",
    "    type_check env' e2 None"
   ]
  },
  {
   "cell_type": "markdown",
   "id": "7ca5ef12-54fb-4214-93f5-4cd5e6d0fc18",
   "metadata": {},
   "source": [
    "## Example ##\n",
    "\n",
    "Consider the max function:\n",
    "```ocaml\n",
    "let max x y = if x > y then x else y\n",
    "```\n",
    "Let's say we want to verify it against the type `x:int -> y:int -> {v:int | v≥x ∧ v≥y}`. Here is how you do it:"
   ]
  },
  {
   "cell_type": "code",
   "execution_count": null,
   "id": "5efe2432-1cb5-40f9-b754-14315e1b3580",
   "metadata": {
    "collapsed": true,
    "jupyter": {
     "outputs_hidden": true
    },
    "tags": []
   },
   "outputs": [
    {
     "name": "stdout",
     "output_type": "stream",
     "text": [
      "(declare-fun y () Int)\n",
      "(declare-fun x () Int)\n",
      "(declare-fun v () Int)\n",
      "(assert (= (> x y) true))\n",
      "(assert (let ((a!1 (not (and (or (> v x) (= v x)) (or (> v y) (= v y))))))\n",
      "  (and true (= v x) a!1)))\n",
      "\n"
     ]
    },
    {
     "name": "stderr",
     "output_type": "stream",
     "text": [
      "libc++abi: terminating with uncaught exception of type is_non_propositional_predicate::found\n"
     ]
    }
   ],
   "source": [
    "let max_ret_ty = TyRef(\"v\",TyInt,And(Or(Gt(Var \"v\", Var \"x\"), Eq(Var \"v\", Var \"x\")), \n",
    "                                     Or(Gt(Var \"v\", Var \"y\"), Eq(Var \"v\", Var \"y\")))) in\n",
    "let max_body = Ite(Gt(Var \"x\",Var \"y\"), Var \"x\", Var \"y\") in\n",
    "let max = Lam(\"x\", trivial TyInt, None, Lam(\"y\", trivial TyInt, Some max_ret_ty, max_body)) in\n",
    "type_check [] max None"
   ]
  },
  {
   "cell_type": "markdown",
   "id": "dbd63936-f1e8-45ba-a5fa-1ce97f1ffc6d",
   "metadata": {},
   "source": [
    "## Question 1 ##\n",
    "\n",
    "Add `Div` to the CoreML AST and make sure the following function type checks. You will have to write the AST for the following function similar to `max` above.\n",
    "\n",
    "```ocaml\n",
    "let div = fun (x:int) -> fun (y:{v:int | ¬(v=0)}) -> x/y\n",
    "```"
   ]
  },
  {
   "cell_type": "code",
   "execution_count": null,
   "id": "0447cebb-227c-4e40-b012-65d249b1ab6d",
   "metadata": {},
   "outputs": [],
   "source": [
    "(*\n",
    " * Fill in here\n",
    " *)"
   ]
  },
  {
   "cell_type": "markdown",
   "id": "90a7cd81-c371-4c74-a66b-e5bb0174f6fd",
   "metadata": {},
   "source": [
    "## Question 2 ##\n",
    "Write the CoreML ast for the following function and make sure it type checks:\n",
    "\n",
    "```ocaml\n",
    "let rec (sum: k:int -> {v:int | v≥0 ∧ v≥k} = \n",
    "  fun (k:int):{v:int | v≥0 ∧ v≥k} -> \n",
    "    if k < 0 then 0 \n",
    "    else let s = sum (k-1) in s + k\n",
    "```"
   ]
  },
  {
   "cell_type": "code",
   "execution_count": null,
   "id": "d0d5dfe7-d653-4570-8148-ae7ecd482cd9",
   "metadata": {},
   "outputs": [],
   "source": [
    "(*\n",
    " * Fill in here\n",
    " *)"
   ]
  },
  {
   "cell_type": "markdown",
   "id": "fb2727e8-6ca9-4d54-8bba-e9e5b0432546",
   "metadata": {},
   "source": [
    "## Question 3 ##\n",
    "Write the CoreML ast for the following function and make sure it type checks:\n",
    "\n",
    "```ocaml\n",
    "let rec (fib: n:int -> {v:int | n≤5 ∨ v>n }) = \n",
    "  fun (n:int):{v:int | n≤5 ∨ v>n } -> if n<=2 then 1 else fib (n-1) + fib (n-2)\n",
    "```"
   ]
  },
  {
   "cell_type": "code",
   "execution_count": null,
   "id": "9a732664-9e0d-4446-ae9e-a20c436a93b0",
   "metadata": {},
   "outputs": [],
   "source": [
    "(*\n",
    " * Fill in here\n",
    " *)"
   ]
  },
  {
   "cell_type": "markdown",
   "id": "1ddf82d3-69e9-41a9-8298-8cf0d7f6f674",
   "metadata": {},
   "source": [
    "## Question 4 ##\n",
    "Write the CoreML ast for the following function and make sure it type checks:\n",
    "\n",
    "```ocaml\n",
    "let div = fun (x:int) -> fun (y:{v:int | ¬(v=0)}) -> x/y in\n",
    "let max = fun (x:int) -> fun (y:int) : {v:int | v≥x ∧ v≥y} = if x > y then x else y\n",
    "let m = 44 in\n",
    "let n = 23 in\n",
    "let k = max m n in\n",
    "div 100 (k-23)\n",
    "```\n"
   ]
  },
  {
   "cell_type": "code",
   "execution_count": null,
   "id": "e14f52a4-fa73-481e-baae-37be4fd3c708",
   "metadata": {},
   "outputs": [],
   "source": [
    "(*\n",
    " * Fill in here\n",
    " *)"
   ]
  }
 ],
 "metadata": {
  "kernelspec": {
   "display_name": "OCaml 4.12.0",
   "language": "OCaml",
   "name": "ocaml-jupyter"
  },
  "language_info": {
   "codemirror_mode": "text/x-ocaml",
   "file_extension": ".ml",
   "mimetype": "text/x-ocaml",
   "name": "OCaml",
   "nbconverter_exporter": null,
   "pygments_lexer": "OCaml",
   "version": "4.12.0"
  }
 },
 "nbformat": 4,
 "nbformat_minor": 5
}
